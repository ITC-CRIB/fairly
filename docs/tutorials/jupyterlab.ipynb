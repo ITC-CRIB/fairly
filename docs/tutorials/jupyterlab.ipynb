{
 "cells": [
  {
   "attachments": {},
   "cell_type": "markdown",
   "metadata": {},
   "source": [
    "# Using the JupterLab Extension\n",
    "\n",
    "In this tutorial you will learn how to use the Jupyter extension of *fairly* to create, upload, and clone datasets from research data repositories.\n",
    "What you will need?\n",
    "- Follow the [installation](../package/installation.rst) steps for fairly.\n",
    "- An account on 4TU.ResearchData repository. Try to log in using one the [options here.](https://data.4tu.nl/info/en/log-in-upload-data/about-log-in) \n",
    "- An account on Zenodo repository. You can [follow these steps](https://zenodo.org/signup/) if your do not have an account yet.\n",
    "- Some data files for testing things out (optional)."
   ]
  },
  {
   "attachments": {},
   "cell_type": "markdown",
   "metadata": {},
   "source": [
    "## Start JupyterLab\n",
    "\n"
   ]
  }
 ],
 "metadata": {
  "language_info": {
   "name": "python"
  },
  "orig_nbformat": 4
 },
 "nbformat": 4,
 "nbformat_minor": 2
}
