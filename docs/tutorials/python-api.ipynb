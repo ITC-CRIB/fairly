{
 "cells": [
  {
   "attachments": {},
   "cell_type": "markdown",
   "metadata": {},
   "source": [
    "# Using the Python API\n",
    "\n",
    "In this tutorial you will learn how to use *fairly* as a Python package to create, upload, and clone datasets from research data repositories.\n",
    "\n"
   ]
  }
 ],
 "metadata": {
  "language_info": {
   "name": "python"
  },
  "orig_nbformat": 4
 },
 "nbformat": 4,
 "nbformat_minor": 2
}
