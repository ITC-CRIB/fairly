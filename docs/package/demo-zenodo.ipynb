{
 "cells": [
  {
   "cell_type": "markdown",
   "id": "441a22a6-7527-48c3-951e-7cab0937707c",
   "metadata": {},
   "source": [
    "# Download Datasets from Zenodo\n",
    "\n",
    "*fairly* can also download publid datasets from Zenodo.\n",
    "The *Zenodo* repository its own platform for managing research datasets. For this example, we will use the dataset [Quality and timing of crowd-based water level class observations](https://zenodo.org/records/3929547). This dataset is a single compressed file of type `.zip`, which contains several other files and directories, and it is about `27 MBs` in size. \n",
    "\n",
    "In Zenodo the ID of a dataet can be found by looking its DOI. It last part of a DOI (a number). For example, the DOI for the second version of the dataset is `10.5281/zenodo.3929547`, therefore its ID is `3929547`. We can fetch a dataset using either its ID or its URL.\n",
    "\n"
   ]
  },
  {
   "cell_type": "markdown",
   "id": "a88e8a7d",
   "metadata": {},
   "source": [
    "## 1. Connect to Zenodo\n",
    "To connect to data repositories we use clients. A client manage the connection to an specific data repository. We can create a client to connect to Zenodo as follows:"
   ]
  },
  {
   "cell_type": "code",
   "execution_count": 7,
   "id": "3ddbd026-62e2-4a2c-a62e-127f06a4b0f3",
   "metadata": {},
   "outputs": [],
   "source": [
    "import fairly\n",
    "\n",
    "zenodo = fairly.client(id=\"zenodo\")"
   ]
  },
  {
   "cell_type": "markdown",
   "id": "f088481e",
   "metadata": {},
   "source": [
    "## 2. Connect to a dataset\n",
    "Now, we can connect to a *public* dataset by calling the `get_dataset()` method and using either the dataset ID or its URL."
   ]
  },
  {
   "cell_type": "code",
   "execution_count": 8,
   "id": "075a2d23-85ee-4415-bd53-888e11627f61",
   "metadata": {},
   "outputs": [],
   "source": [
    "# USING ID\n",
    "dataset = zenodo.get_dataset(\"3929547\") \n",
    "\n",
    "# USING URL\n",
    "dataset = zenodo.get_dataset(\"https://zenodo.org/records/3929547\") "
   ]
  },
  {
   "cell_type": "markdown",
   "id": "59c971ed",
   "metadata": {},
   "source": [
    "## 3. Explore dataset's metadata\n",
    "\n",
    "Once we have made a connection to a dataset, we can access its metadata (as stored in the data repository) by calling the `metadata` property of a dataset. "
   ]
  },
  {
   "cell_type": "code",
   "execution_count": 9,
   "id": "30023980",
   "metadata": {},
   "outputs": [
    {
     "data": {
      "text/plain": [
       "Metadata({'type': 'dataset', 'publication_date': '2020-02-20', 'title': 'Data and R-Scripts for \"Quality and timing of crowd-based water level class observations\"', 'authors': [Person({'fullname': 'Etter, Simon', 'institution': 'University of Zurich, Department of Geography', 'orcid_id': '0000-0002-7553-9102', 'name': 'Simon', 'surname': 'Etter'}), Person({'fullname': 'Strobl, Barbara', 'institution': 'University of Zurich, Department of Geography', 'orcid_id': '0000-0001-5530-4632', 'name': 'Barbara', 'surname': 'Strobl'}), Person({'fullname': 'Seibert, Jan', 'institution': 'University of Zurich, Department of Geography', 'orcid_id': '0000-0002-6314-2124', 'name': 'Jan', 'surname': 'Seibert'}), Person({'fullname': 'van Meerveld, Ilja (H.J.)', 'institution': 'University of Zurich, Department of Geography', 'orcid_id': '0000-0002-7547-3270', 'name': 'Ilja (H.J.)', 'surname': 'van Meerveld'})], 'description': '<p>This are the data and the R-scripts used for the manuscript &quot;Quality and timing of crowd-based water level class observations&quot; accepted for publication in the journal Hydrological Processes in July 2020 as a Scientific Briefing. To run the code, just run the R-script with the name &quot;RunThisForResults.R&quot;. Results will be written to the &quot;Figures&quot; and the &quot;Results&quot; folder.</p>', 'access_type': 'open', 'license': 'CC-BY-4.0', 'doi': '10.5281/zenodo.3929547', 'keywords': ['CrowdWater', 'Hydrology'], 'zenodo_id': {'id': '3929547'}, 'prereserve_doi': {'doi': '10.5281/zenodo.3929547', 'recid': 3929547}, 'related_identifiers': [{'identifier': '10.5281/zenodo.3676350', 'relation': 'isVersionOf', 'scheme': 'doi'}], 'grants': ['10.13039/501100001711::200021_163008'], 'version': '2', 'language': 'eng'})"
      ]
     },
     "execution_count": 9,
     "metadata": {},
     "output_type": "execute_result"
    }
   ],
   "source": [
    "# Retrieves metadata from data repository\n",
    "dataset.metadata"
   ]
  },
  {
   "cell_type": "markdown",
   "id": "2523d219",
   "metadata": {},
   "source": [
    "## 4. List dataset's files\n",
    "\n",
    "We can list the files of a dataset using the `files` property. The result is a Python dictionary where the name of each file is an element of the dictionary. In this case the dataset contains only one file."
   ]
  },
  {
   "cell_type": "code",
   "execution_count": 10,
   "id": "f9f51002",
   "metadata": {},
   "outputs": [
    {
     "name": "stdout",
     "output_type": "stream",
     "text": [
      "There are 1 files in this dataset\n",
      "{'DataForUploadToZenodo.zip': 'DataForUploadToZenodo.zip'}\n"
     ]
    }
   ],
   "source": [
    "# Lists files (data) associated to the dataset\n",
    "files = dataset.files\n",
    "\n",
    "print(\"There are\", len(files), \"files in this dataset\")\n",
    "\n",
    "print(files)"
   ]
  },
  {
   "cell_type": "markdown",
   "id": "5fed2262",
   "metadata": {},
   "source": [
    "## 5. Download a file\n",
    "\n",
    "We can download the file in the dataset by using the name of a file. For example `'DataForUploadToZenodo.zip'`. \n",
    "\n",
    "> The `path` parameter can be used to define where to store the file, otherwise the file will be store in the working directory.\n"
   ]
  },
  {
   "cell_type": "code",
   "execution_count": 5,
   "id": "71a25448",
   "metadata": {},
   "outputs": [
    {
     "data": {
      "text/plain": [
       "'DataForUploadToZenodo.zip'"
      ]
     },
     "execution_count": 5,
     "metadata": {},
     "output_type": "execute_result"
    }
   ],
   "source": [
    "# Select a file to download from the dataset\n",
    "single_file =  dataset.files['DataForUploadToZenodo.zip'] # missing updating the manifest\n",
    "\n",
    "# download a file\n",
    "zenodo.download_file(single_file, path=\"./from-zenodo\")"
   ]
  },
  {
   "cell_type": "markdown",
   "id": "d7351589",
   "metadata": {},
   "source": [
    "## 6. Download a dataset\n",
    "\n",
    "We also can download all files and metadata of a dataset using the `store()` function. We need to provide a path to a directory to store the dataset. If the directory does not exist, it would be created."
   ]
  },
  {
   "cell_type": "code",
   "execution_count": 11,
   "id": "506d536b-53f0-482a-95e3-1d37eb5c3676",
   "metadata": {},
   "outputs": [
    {
     "data": {
      "text/plain": [
       "<fairly.dataset.local.LocalDataset at 0x7f5250515ba0>"
      ]
     },
     "execution_count": 11,
     "metadata": {},
     "output_type": "execute_result"
    }
   ],
   "source": [
    "# This will download about 278 MBs\n",
    "dataset.store(\"./quality\") # use extract=True for unzipping\n"
   ]
  }
 ],
 "metadata": {
  "kernelspec": {
   "display_name": "Python 3.10.4 ('venv': venv)",
   "language": "python",
   "name": "python3"
  },
  "language_info": {
   "codemirror_mode": {
    "name": "ipython",
    "version": 3
   },
   "file_extension": ".py",
   "mimetype": "text/x-python",
   "name": "python",
   "nbconvert_exporter": "python",
   "pygments_lexer": "ipython3",
   "version": "3.10.4"
  },
  "vscode": {
   "interpreter": {
    "hash": "7d5fcea36288094484ea4026c704bd47a44b80f0a87a063450ae6a7b7e01ed32"
   }
  }
 },
 "nbformat": 4,
 "nbformat_minor": 5
}
