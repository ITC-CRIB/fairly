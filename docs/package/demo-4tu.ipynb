{
 "cells": [
  {
   "cell_type": "markdown",
   "id": "441a22a6-7527-48c3-951e-7cab0937707c",
   "metadata": {},
   "source": [
    "# Download Datasets from 4TU.ResearchData\n",
    "\n",
    "**fairly** can download public datasets from 4TU.ResearchData.\n",
    "The *4TU.ResearchData* repository uses Figshare as a platform for managing research datasets. For this example, we will use the dataset [EDoM measurement campaign](https://data.4tu.nl/articles/dataset/EDoM_measurement_campaign_full_data_from_the_lower_Ems_River/20308263). This dataset contains 28 files of different types (`.txt`, `.pdf`), and it is about `278 MBs` in size. \n",
    "\n",
    "The dataset has ID: `20308263`, in 4TU.ResearchData the dataset ID is the last part of the URL that appears in the web browser. We can fetch a dataset using either its ID or its URL.\n"
   ]
  },
  {
   "cell_type": "markdown",
   "id": "9b1a66e5",
   "metadata": {},
   "source": [
    "## 1. Connect to 4TU.ResearchData\n",
    "To connect to data repositories we use clients. A client manage the connection to an specific data repository. We can create a client to connect to 4TU.ReseachData as follows:"
   ]
  },
  {
   "cell_type": "code",
   "execution_count": 4,
   "id": "3ddbd026-62e2-4a2c-a62e-127f06a4b0f3",
   "metadata": {},
   "outputs": [],
   "source": [
    "import fairly \n",
    "\n",
    "fourtu = fairly.client(\"4tu\") "
   ]
  },
  {
   "cell_type": "markdown",
   "id": "f088481e",
   "metadata": {},
   "source": [
    "## 2. Connect to a dataset\n",
    "\n",
    "Now, we can connect to a *public* dataset by calling the `get_dataset()` method and using either the dataset ID or its URL, or the DOI."
   ]
  },
  {
   "cell_type": "code",
   "execution_count": 5,
   "id": "075a2d23-85ee-4415-bd53-888e11627f61",
   "metadata": {},
   "outputs": [],
   "source": [
    "# USING ID\n",
    "# dataset = fourtu.get_dataset(\"20308263\") \n",
    "\n",
    "# USING URL\n",
    "dataset = fourtu.get_dataset(\"https://data.4tu.nl/articles/dataset/EDoM_measurement_campaign_full_data_from_the_lower_Ems_River/20308263\") \n",
    "\n",
    "# COMVENIENT FUNCTION, USING DOI\n",
    "# dataset = fairly.dataset( https://doi.org/10.4121/19519618.v1) # client is infered from DOI"
   ]
  },
  {
   "cell_type": "markdown",
   "id": "59c971ed",
   "metadata": {},
   "source": [
    "## 3. Explore dataset's metadata\n",
    "\n",
    "Once we have made a connection to a dataset, we can access its metadata (as stored in the data repository) by using the `metadata` property. "
   ]
  },
  {
   "cell_type": "code",
   "execution_count": 3,
   "id": "30023980",
   "metadata": {},
   "outputs": [
    {
     "data": {
      "text/plain": [
       "Metadata({'authors': [Person({'fullname': 'Bas van Maren', 'orcid_id': '0000-0001-5820-3212', 'figshare_id': 11844539}), Person({'fullname': 'Andreas Engels', 'figshare_id': 12901508})], 'keywords': ['Hydrodynamics', 'Sediment dynamics', 'Collection: The Ems-Dollard Measurement (EDoM) campaign'], 'description': '<p>A large amount of long term monitoring data collected during the Edom measurement campaign has been published in Net CDF as part of the collection \\'Edom measurements campaign: data from long-term monitoring\\' ( <a href=\"https://doi.org/10.4121/19519618.v1\" target=\"_blank\">https://doi.org/10.4121/19519618.v1</a>). This dataset provides the full subset of the long term mooring data (including oxygen and flow velocities) in ASCII text format, and only for the lower Ems River</p>', 'license': 'CC BY-NC-SA 4.0', 'title': 'EDoM measurement campaign: full data from the lower Ems River', 'doi': '10.4121/20308263.v1', 'type': 'dataset', 'access_type': 'open', 'custom_fields': {'Publisher': '4TU.ResearchData', 'Language': '', 'Time coverage': '2017-2019', 'Geolocation': 'Ems estuary', 'Geolocation Longitude': '7.04', 'Geolocation Latitude': '53.30', 'Format': 'ASCII text', 'Data Link': [], 'Derived From': [], 'Same As': [], 'Organizations': 'Niedersächsischer Landesbetrieb für Wasserwirtschaft Küsten (NLWKN);'}, 'embargo_type': 'file', 'categories': ['Physical Geography and Environmental Geoscience'], 'online_date': '2022-07-14T10:56:04', '4tu_id': {'id': '20308263', 'version': None}})"
      ]
     },
     "execution_count": 3,
     "metadata": {},
     "output_type": "execute_result"
    }
   ],
   "source": [
    "# Retrieves metadata from data repository\n",
    "dataset.metadata"
   ]
  },
  {
   "cell_type": "markdown",
   "id": "2523d219",
   "metadata": {},
   "source": [
    "## 4. List dataset's files\n",
    "\n",
    "We can list the files of a dataset using the `files` property. The result is a Python dictionary where the name of each file becomes elements of the dictionary."
   ]
  },
  {
   "cell_type": "code",
   "execution_count": 4,
   "id": "f9f51002",
   "metadata": {},
   "outputs": [
    {
     "name": "stdout",
     "output_type": "stream",
     "text": [
      "There are 28 files in this dataset\n",
      "{'CsEmspier_01052017-01052019_from_NLWKN.txt': 'CsEmspier_01052017-01052019_from_NLWKN.txt', 'CsGandesum_01052017-01052019_from_NLWKN.txt': 'CsGandesum_01052017-01052019_from_NLWKN.txt', 'CsKnock_01052017-01052019_from_NLWKN.txt': 'CsKnock_01052017-01052019_from_NLWKN.txt', 'CsMP1_01052017-01052019_from_WSV.txt': 'CsMP1_01052017-01052019_from_WSV.txt', 'CsPogum_01052017-01052019_from_NLWKN.txt': 'CsPogum_01052017-01052019_from_NLWKN.txt', 'CsTerborg_01052017-01052019_from_NLWKN.txt': 'CsTerborg_01052017-01052019_from_NLWKN.txt', 'Messung_Gewaesserguete_EMS_NLWKN.pdf': 'Messung_Gewaesserguete_EMS_NLWKN.pdf', 'O2Emspier_01052017-01052019_from_NLWKN.txt': 'O2Emspier_01052017-01052019_from_NLWKN.txt', 'O2Gandersum_01052017-01052019_from_NLWKN.txt': 'O2Gandersum_01052017-01052019_from_NLWKN.txt', 'O2Knock_01052017-01052019_from_NLWKN.txt': 'O2Knock_01052017-01052019_from_NLWKN.txt', 'O2MP1_01052017-01052019_from_WSV.txt': 'O2MP1_01052017-01052019_from_WSV.txt', 'O2Pogum_01052017-01052019_from_NLWKN.txt': 'O2Pogum_01052017-01052019_from_NLWKN.txt', 'O2Terborg_01052017-01052019_from_NLWKN.txt': 'O2Terborg_01052017-01052019_from_NLWKN.txt', 'Q_Versen_052017-052019.txt': 'Q_Versen_052017-052019.txt', 'readme.txt': 'readme.txt', 'SpEmspier_01052017-01052019_from_NLWKN.txt': 'SpEmspier_01052017-01052019_from_NLWKN.txt', 'SpGandersum_01052017-01052019_from_NLWKN.txt': 'SpGandersum_01052017-01052019_from_NLWKN.txt', 'SpKnock_01052017-01052019_from_NLWKN.txt': 'SpKnock_01052017-01052019_from_NLWKN.txt', 'SpMP1_01052017-01052019_from_WSV.txt': 'SpMP1_01052017-01052019_from_WSV.txt', 'SpPogum_01052017-01052019_from_NLWKN.txt': 'SpPogum_01052017-01052019_from_NLWKN.txt', 'SpTerborg_01052017-01052019_from_NLWKN.txt': 'SpTerborg_01052017-01052019_from_NLWKN.txt', 'U_Emden_01052017-01052019_from_WSA_Emden.txt': 'U_Emden_01052017-01052019_from_WSA_Emden.txt', 'U_Knock_01052017-01052019_from_WSA_Emden.txt': 'U_Knock_01052017-01052019_from_WSA_Emden.txt', 'U_MP1_01052017-01052019_from_WSV.txt': 'U_MP1_01052017-01052019_from_WSV.txt', 'U_Terborg_01052017-01052019_from_WSA_Emden.txt': 'U_Terborg_01052017-01052019_from_WSA_Emden.txt', 'WL_Emden_01052017-01052019_from_WSA_Emden.txt': 'WL_Emden_01052017-01052019_from_WSA_Emden.txt', 'WL_Knock_01052017-01052019_from_WSA_Emden.txt': 'WL_Knock_01052017-01052019_from_WSA_Emden.txt', 'WL_Terborg_01052017-01052019_from_WSA_Emden.txt': 'WL_Terborg_01052017-01052019_from_WSA_Emden.txt'}\n"
     ]
    }
   ],
   "source": [
    "# Lists files (data) associated to the dataset\n",
    "files = dataset.files\n",
    "\n",
    "print(\"There are\", len(files), \"files in this dataset\")\n",
    "\n",
    "print(files)"
   ]
  },
  {
   "cell_type": "markdown",
   "id": "39c30dce-9c82-4d7f-9151-8c65ef4fadfd",
   "metadata": {},
   "source": [
    "## 5. Download a file\n",
    "\n",
    "We can donwload a single file in a dataset by using tis name. For example, this dataset contains a file with the name `'CsEmspier_01052017-01052019_from_NLWKN.txt'`. \n",
    "\n",
    "> The `path` parameter can be used to define where to store the file, otherwise the file will be store in the working directory.\n"
   ]
  },
  {
   "cell_type": "code",
   "execution_count": 5,
   "id": "71a25448",
   "metadata": {},
   "outputs": [
    {
     "data": {
      "text/plain": [
       "'CsEmspier_01052017-01052019_from_NLWKN.txt'"
      ]
     },
     "execution_count": 5,
     "metadata": {},
     "output_type": "execute_result"
    }
   ],
   "source": [
    "# Select a file from the dataset\n",
    "single_file =  dataset.files['CsEmspier_01052017-01052019_from_NLWKN.txt']\n",
    "\n",
    "# download the file\n",
    "fourtu.download_file(single_file)"
   ]
  },
  {
   "cell_type": "markdown",
   "id": "d7351589",
   "metadata": {},
   "source": [
    "## 6. Download a dataset\n",
    "\n",
    "We can download all files and metadata of a dataset using the `store()` function. We need to provide a `path` to a directory to store the dataset. If the directory does not exist, it would be created."
   ]
  },
  {
   "cell_type": "code",
   "execution_count": 6,
   "id": "506d536b-53f0-482a-95e3-1d37eb5c3676",
   "metadata": {},
   "outputs": [
    {
     "data": {
      "text/plain": [
       "<fairly.dataset.local.LocalDataset at 0x7f143af8a6b0>"
      ]
     },
     "execution_count": 6,
     "metadata": {},
     "output_type": "execute_result"
    }
   ],
   "source": [
    "# This will download about 278 MBs\n",
    "dataset.store(\"./edom\")"
   ]
  }
 ],
 "metadata": {
  "kernelspec": {
   "display_name": "Python 3.10.4 ('venv': venv)",
   "language": "python",
   "name": "python3"
  },
  "language_info": {
   "codemirror_mode": {
    "name": "ipython",
    "version": 3
   },
   "file_extension": ".py",
   "mimetype": "text/x-python",
   "name": "python",
   "nbconvert_exporter": "python",
   "pygments_lexer": "ipython3",
   "version": "3.10.4"
  },
  "vscode": {
   "interpreter": {
    "hash": "7d5fcea36288094484ea4026c704bd47a44b80f0a87a063450ae6a7b7e01ed32"
   }
  }
 },
 "nbformat": 4,
 "nbformat_minor": 5
}
