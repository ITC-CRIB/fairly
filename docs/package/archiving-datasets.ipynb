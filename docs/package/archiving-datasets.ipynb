{
 "cells": [
  {
   "cell_type": "markdown",
   "metadata": {},
   "source": [
    "# Archiving Dataset\n",
    "\n",
    "With **fairly**, we can remotely archive and edit datasets in a user account. Users can prepare a dataset for archiving by editing metadata, defining which files are part of a dataset, and uploading them to a data repository. One of the purposes of **fairly** is to *remove the need of preparing metadata and data for every repository to which a dataset will be archived*. Therefore, saving time and effort, and lowering the barriers for practicing Open Science.\n",
    "This tutorial shows what is possible by using the 4TU.ResearchData repository. The procedure is similar for Zenodo.\n",
    "\n",
    "**Requirements:**\n",
    "\n",
    "* A 4TU.ResearchData account\n",
    "* A personal access token. See [configuring access token](https://fairly.readthedocs.io/en/latest/package/account-token.html) if you don't have one.\n",
    "* Files to be archived. We will use a hypothetical case in this tutorial.\n",
    "\n",
    "> For this tutorial, we assume that our goal is to archive a dataset in 4TU.ResearchData, that we previously archived in Zenodo. We will use the dataset [Quality and timing of crowd-based water level class observations](https://zenodo.org/records/3929547), as an example.\n",
    "   "
   ]
  },
  {
   "cell_type": "markdown",
   "metadata": {},
   "source": [
    "## 1. Download the Zenodo dataset\n",
    "\n",
    "First, we need to download the [Quality and timing of crowd-based water level class observations](https://zenodo.org/records/3929547), using its URL. If you did this already in the tutorial on *downloading datasets from Zenodo*, you can skip this step."
   ]
  },
  {
   "cell_type": "code",
   "execution_count": 3,
   "metadata": {},
   "outputs": [],
   "source": [
    "import fairly\n",
    "\n",
    "# Create a Zenodo client\n",
    "zenodo = fairly.client(\"zenodo\")\n",
    "\n",
    "# Connect and download a dataset\n",
    "source_dataset = zenodo.get_dataset(\"https://zenodo.org/records/3929547\") \n",
    "source_dataset.store(\"./quality/\") "
   ]
  },
  {
   "cell_type": "markdown",
   "metadata": {},
   "source": [
    "## 2. Editing Metadata\n",
    "\n",
    "Now we can load the downloaded dataset and edit its metadata. For example, we can add a few more *keywords* and edit the *license*."
   ]
  },
  {
   "cell_type": "code",
   "execution_count": 4,
   "metadata": {},
   "outputs": [
    {
     "name": "stdout",
     "output_type": "stream",
     "text": [
      "{'access_type': 'open', 'authors': [Person({'fullname': 'Etter, Simon', 'institution': 'University of Zurich, Department of Geography', 'name': 'Simon', 'orcid_id': '0000-0002-7553-9102', 'surname': 'Etter'}), Person({'fullname': 'Strobl, Barbara', 'institution': 'University of Zurich, Department of Geography', 'name': 'Barbara', 'orcid_id': '0000-0001-5530-4632', 'surname': 'Strobl'}), Person({'fullname': 'Seibert, Jan', 'institution': 'University of Zurich, Department of Geography', 'name': 'Jan', 'orcid_id': '0000-0002-6314-2124', 'surname': 'Seibert'}), Person({'fullname': 'van Meerveld, Ilja (H.J.)', 'institution': 'University of Zurich, Department of Geography', 'name': 'Ilja (H.J.)', 'orcid_id': '0000-0002-7547-3270', 'surname': 'van Meerveld'})], 'description': '<p>This are the data and the R-scripts used for the manuscript &quot;Quality and timing of crowd-based water level class observations&quot; accepted for publication in the journal Hydrological Processes in July 2020 as a Scientific Briefing. To run the code, just run the R-script with the name &quot;RunThisForResults.R&quot;. Results will be written to the &quot;Figures&quot; and the &quot;Results&quot; folder.</p>', 'doi': '10.5281/zenodo.3929547', 'grants': ['10.13039/501100001711::200021_163008'], 'keywords': ['CrowdWater', 'Hydrology'], 'language': 'eng', 'license': 'CC-BY-4.0', 'prereserve_doi': {'doi': '10.5281/zenodo.3929547', 'recid': 3929547}, 'publication_date': '2020-02-20', 'related_identifiers': [{'identifier': '10.5281/zenodo.3676350', 'relation': 'isVersionOf', 'scheme': 'doi'}], 'title': 'Data and R-Scripts for \"Quality and timing of crowd-based water level class observations\"', 'type': 'dataset', 'version': '2', 'zenodo_id': {'id': '3929547'}}\n"
     ]
    }
   ],
   "source": [
    "import fairly\n",
    "\n",
    "# Load a previously downloaded dataset by passing its path\n",
    "local_dataset = fairly.dataset(\"./quality/\")\n",
    "\n",
    "# Display the metadata\n",
    "print(local_dataset.metadata)"
   ]
  },
  {
   "cell_type": "code",
   "execution_count": 5,
   "metadata": {},
   "outputs": [],
   "source": [
    "# Edit keywords\n",
    "local_dataset.metadata[\"keywords\"] = [\"CrowdWater\", \"Hydrology\", \"made by fairly\"]\n",
    "\n",
    "# Edit the license name to match what is required by 4TU.ResearchData\n",
    "local_dataset.metadata[\"license\"] = \"CC BY 4.0\""
   ]
  },
  {
   "cell_type": "markdown",
   "metadata": {},
   "source": [
    "## 3. Archive to 4TU.ResearchData\n",
    "Now we can create a new dataset in a 4TU.ResearchData account. We assume a **personal access token** has already been added to `~/.fairly/config.json` "
   ]
  },
  {
   "cell_type": "code",
   "execution_count": 6,
   "metadata": {},
   "outputs": [
    {
     "name": "stdout",
     "output_type": "stream",
     "text": [
      "DataForUploadToZenodo.zip, 26765942/10485760\n",
      "DataForUploadToZenodo.zip, 26765942/20971520\n",
      "DataForUploadToZenodo.zip, 26765942/26765942\n"
     ]
    },
    {
     "data": {
      "text/plain": [
       "<fairly.dataset.remote.RemoteDataset at 0x7f62f5326200>"
      ]
     },
     "execution_count": 6,
     "metadata": {},
     "output_type": "execute_result"
    }
   ],
   "source": [
    "local_dataset.upload(\"figshare\", notify=fairly.notify)"
   ]
  },
  {
   "cell_type": "markdown",
   "metadata": {},
   "source": [
    "> We could continue uploading files or editing the metadata in a similar way. For now, **publishing** the dataset should be done via the web interface of 4TU.ResearchData."
   ]
  }
 ],
 "metadata": {
  "kernelspec": {
   "display_name": "Python 3 (ipykernel)",
   "language": "python",
   "name": "python3"
  },
  "language_info": {
   "codemirror_mode": {
    "name": "ipython",
    "version": 3
   },
   "file_extension": ".py",
   "mimetype": "text/x-python",
   "name": "python",
   "nbconvert_exporter": "python",
   "pygments_lexer": "ipython3",
   "version": "3.10.4"
  },
  "vscode": {
   "interpreter": {
    "hash": "262683ceb590c1664a72ae4b5fb24aafe692d2539af9aafb5e1323673742110e"
   }
  }
 },
 "nbformat": 4,
 "nbformat_minor": 4
}
