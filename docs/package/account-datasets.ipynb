{
 "cells": [
  {
   "cell_type": "markdown",
   "metadata": {},
   "source": [
    "# Access Account Datasets\n",
    "\n",
    "With *fairly*, you can access the datasets in a repository's user account. This tutorial shows you how to do it for the case of 4TU.ResearchData. The procedure is the same for Zenodo.\n",
    "\n",
    "**Requirements:**\n",
    "\n",
    "* A 4TU.ResearchData account\n",
    "* A personal access token. See [configuring access token](https://fairly.readthedocs.io/en/latest/package/account-token.html) if you don't have one."
   ]
  },
  {
   "cell_type": "markdown",
   "metadata": {},
   "source": [
    "## 1. Connect to an account\n",
    "\n",
    "To connect to an repository's account, we need to pass a personal token when creating a client. Or we can store tokens in a configuration file at `~/.fairly/config.json`"
   ]
  },
  {
   "cell_type": "code",
   "execution_count": 3,
   "metadata": {},
   "outputs": [],
   "source": [
    "# Passing a token directly\n",
    "import fairly\n",
    "\n",
    "fourtu = fairly.client(\"figshare\", token=\"<4tu-token>\")"
   ]
  },
  {
   "cell_type": "markdown",
   "metadata": {},
   "source": [
    "> To store your tokens, create a JSON file like the one below and store it at `~/.fairly/config.json`. You can store tokens for other repositories by adding them to this file as `\"<repository-id>\": {\"token\": \"<the-token>\"}`\n",
    "\n",
    "```json\n",
    "\n",
    "{\n",
    "    \"4tu\": {\n",
    "\t\t\"token\": \"<4tu-token>\"\n",
    "\t}\n",
    "}\n",
    "```"
   ]
  },
  {
   "cell_type": "markdown",
   "metadata": {},
   "source": [
    "## 2. Retrieve account datasets\n",
    "\n",
    "You can see the datasets in an account by calling the `get_account_datasets()` method of a client. This retrieves the list of datasets in the account. Then, you can use the `id` and `metadata` properties of a *dataset* to find more details."
   ]
  },
  {
   "cell_type": "code",
   "execution_count": 4,
   "metadata": {},
   "outputs": [
    {
     "name": "stdout",
     "output_type": "stream",
     "text": [
      "There are 2 datasets in this account\n"
     ]
    }
   ],
   "source": [
    "# Retrieve the datasets in the account\n",
    "my_datasets = fourtu.get_account_datasets()\n",
    "\n",
    "# Display the number of datasets\n",
    "print(\"There are\", len(my_datasets), \"datasets in this account\")\n"
   ]
  },
  {
   "cell_type": "code",
   "execution_count": 5,
   "metadata": {},
   "outputs": [
    {
     "name": "stdout",
     "output_type": "stream",
     "text": [
      "Dataset Ids:\n",
      "[{'id': '20758348', 'version': None}, {'id': '20752675', 'version': None}]\n"
     ]
    }
   ],
   "source": [
    "# Display the dataset IDs \n",
    "print(\"Dataset Ids:\")\n",
    "print([dataset.id for dataset in my_datasets])"
   ]
  },
  {
   "cell_type": "code",
   "execution_count": 6,
   "metadata": {},
   "outputs": [
    {
     "data": {
      "text/plain": [
       "Metadata({'authors': [Person({'fullname': 'Manuel Garcia Alvarez', 'figshare_id': 10645703})], 'license': 'CC BY 4.0', 'title': 'test-dataset', 'type': 'software', 'access_type': 'open', 'custom_fields': {'Publisher': '4TU.ResearchData', 'Language': '', 'Time coverage': '', 'Geolocation': '', 'Geolocation Longitude': '', 'Geolocation Latitude': '', 'Format': '', 'Data Link': [], 'Derived From': [], 'Same As': [], 'Organizations': ''}, 'embargo_type': 'file', 'categories': ['Communications Technologies'], 'figshare_id': {'id': '20758348', 'version': None}})"
      ]
     },
     "execution_count": 6,
     "metadata": {},
     "output_type": "execute_result"
    }
   ],
   "source": [
    "# Metadata of the first dataset\n",
    "my_datasets[0].metadata"
   ]
  }
 ],
 "metadata": {
  "kernelspec": {
   "display_name": "Python 3.10.4 64-bit",
   "language": "python",
   "name": "python3"
  },
  "language_info": {
   "codemirror_mode": {
    "name": "ipython",
    "version": 3
   },
   "file_extension": ".py",
   "mimetype": "text/x-python",
   "name": "python",
   "nbconvert_exporter": "python",
   "pygments_lexer": "ipython3",
   "version": "3.10.4"
  },
  "vscode": {
   "interpreter": {
    "hash": "916dbcbb3f70747c44a77c7bcd40155683ae19c65e1c03b4aa3499c5328201f1"
   }
  }
 },
 "nbformat": 4,
 "nbformat_minor": 4
}
